{
 "cells": [
  {
   "cell_type": "code",
   "execution_count": 92,
   "id": "48e137b8",
   "metadata": {},
   "outputs": [],
   "source": [
    "import numpy as np\n",
    "import open3d as o3d\n",
    "\n",
    "data_list=['buz','comb']\n",
    "file_list=['colmap','lidar1','lidar2','lidar_only']\n",
    "\n",
    "dataname=data_list[1]\n",
    "filename=file_list[1]\n",
    "\n",
    "filepath=f'mylogs/result_{dataname}/{filename}/renderonly_path_049999/'\n",
    "ex=np.load(filepath+'extra.npy',allow_pickle=True)"
   ]
  },
  {
   "cell_type": "code",
   "execution_count": 93,
   "id": "e728c85c",
   "metadata": {},
   "outputs": [],
   "source": [
    "pcd=o3d.geometry.PointCloud()  # create point cloud object\n",
    "points=[]\n",
    "colors=[]\n",
    "for k in range(120):\n",
    "    extra=ex[k].reshape(240,180,-1)\n",
    "    ray_o=extra[:,:,:3]\n",
    "    ray_d=extra[:,:,3:6]\n",
    "#     print(ray_o[0], ray_d.shape)\n",
    "    vec=np.add(ray_o,ray_d)\n",
    "#     print(\"vector\",vec[0])\n",
    "    npz=np.load(f'{filepath}{k:0>3}.npz')\n",
    "    rgb=npz['rgb']\n",
    "    depth=npz['depth']\n",
    "    h,w=depth.shape\n",
    "    for i in range(h):\n",
    "        for j in range(w):\n",
    "#             print(ray_o[i][j],ray_d[i][j],depth[i][j])\n",
    "            points.append((ray_d[i][j]*depth[i][j])+ray_o[i][j])\n",
    "#             points.append(vec[i][j]*depth[i][j])\n",
    "            colors.append(rgb[i][j])\n",
    "            \n",
    "pcd.points = o3d.utility.Vector3dVector(points)\n",
    "pcd.colors = o3d.utility.Vector3dVector(colors) \n",
    "o3d.visualization.draw_geometries([pcd])"
   ]
  },
  {
   "cell_type": "code",
   "execution_count": 94,
   "id": "52ecf786",
   "metadata": {},
   "outputs": [
    {
     "data": {
      "text/plain": [
       "True"
      ]
     },
     "execution_count": 94,
     "metadata": {},
     "output_type": "execute_result"
    }
   ],
   "source": [
    "\n",
    "o3d.io.write_point_cloud(f'{dataname}_{filename}.ply', pcd, write_ascii=False, compressed=False, print_progress=False)\n"
   ]
  },
  {
   "cell_type": "code",
   "execution_count": 97,
   "id": "ab66b05f",
   "metadata": {},
   "outputs": [
    {
     "name": "stdout",
     "output_type": "stream",
     "text": [
      "save buz colmap\n",
      "save buz lidar1\n",
      "save buz lidar2\n",
      "save buz lidar_only\n",
      "save comb colmap\n",
      "save comb lidar1\n",
      "save comb lidar2\n",
      "save comb lidar_only\n"
     ]
    }
   ],
   "source": [
    "#Looping\n",
    "\n",
    "\n",
    "data_list=['buz','comb']\n",
    "file_list=['colmap','lidar1','lidar2','lidar_only']\n",
    "\n",
    "for dataname in data_list:\n",
    "    for filename in file_list:\n",
    "\n",
    "        filepath=f'mylogs/result_{dataname}/{filename}/renderonly_path_049999/'\n",
    "        ex=np.load(filepath+'extra.npy',allow_pickle=True)\n",
    "\n",
    "        pcd=o3d.geometry.PointCloud()  # create point cloud object\n",
    "        points=[]\n",
    "        colors=[]\n",
    "        for k in range(60,120):\n",
    "            extra=ex[k].reshape(240,180,-1)\n",
    "            ray_o=extra[:,:,:3]\n",
    "            ray_d=extra[:,:,3:6]\n",
    "        #     print(ray_o[0], ray_d.shape)\n",
    "            vec=np.add(ray_o,ray_d)\n",
    "        #     print(\"vector\",vec[0])\n",
    "            npz=np.load(f'{filepath}{k:0>3}.npz')\n",
    "            rgb=npz['rgb']\n",
    "            depth=npz['depth']\n",
    "            h,w=depth.shape\n",
    "            for i in range(h):\n",
    "                for j in range(w):\n",
    "        #             print(ray_o[i][j],ray_d[i][j],depth[i][j])\n",
    "                    points.append((ray_d[i][j]*depth[i][j])+ray_o[i][j])\n",
    "        #             points.append(vec[i][j]*depth[i][j])\n",
    "                    colors.append(rgb[i][j])\n",
    "\n",
    "        pcd.points = o3d.utility.Vector3dVector(points)\n",
    "        pcd.colors = o3d.utility.Vector3dVector(colors) \n",
    "        o3d.io.write_point_cloud(f'2h_{dataname}_{filename}.ply', pcd, write_ascii=False, compressed=False, print_progress=False)\n",
    "        print(\"save\",dataname,filename)\n"
   ]
  },
  {
   "cell_type": "code",
   "execution_count": null,
   "id": "0c571fb7",
   "metadata": {},
   "outputs": [],
   "source": [
    "#load\n",
    "\n",
    "pcd = o3d.io.read_point_cloud(f\"{path}/recon_topd_4.ply\")"
   ]
  }
 ],
 "metadata": {
  "kernelspec": {
   "display_name": "Python 3 (ipykernel)",
   "language": "python",
   "name": "python3"
  },
  "language_info": {
   "codemirror_mode": {
    "name": "ipython",
    "version": 3
   },
   "file_extension": ".py",
   "mimetype": "text/x-python",
   "name": "python",
   "nbconvert_exporter": "python",
   "pygments_lexer": "ipython3",
   "version": "3.9.12"
  }
 },
 "nbformat": 4,
 "nbformat_minor": 5
}
